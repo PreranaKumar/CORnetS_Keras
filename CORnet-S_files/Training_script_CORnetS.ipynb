{
 "cells": [
  {
   "cell_type": "code",
   "execution_count": null,
   "metadata": {},
   "outputs": [],
   "source": [
    "from sklearn.preprocessing import LabelBinarizer\n",
    "from sklearn.model_selection import train_test_split\n",
    "from sklearn.metrics import classification_report\n",
    "import CORblock_S\n",
    "\n",
    "from keras.optimizers import SGD\n",
    "from imutils import paths\n",
    "import matplotlib.pyplot as plt\n",
    "import numpy as np\n",
    "import argparse"
   ]
  },
  {
   "cell_type": "code",
   "execution_count": null,
   "metadata": {},
   "outputs": [],
   "source": [
    "ap = argparse.ArgumentParser()\n",
    "ap.add_argument(\"-d\", \"--dataset\", required = True, help = \"path to input dataset\")\n",
    "ap.add_argument(\"-m\",\"--model\", required = True, help = \"path to output model\")\n",
    "args = vars(ap.parse_args())"
   ]
  },
  {
   "cell_type": "code",
   "execution_count": null,
   "metadata": {},
   "outputs": [],
   "source": [
    "#Make_blobs -- Later change to use AffectNet/other dataset\n",
    "(X, y) = make_blobs(n_samples=500, n_features=150528, centers=2, cluster_std=1.5, random_state=1)\n",
    "X = X.reshape(-1,224,224,3) #Reshape X to (50, 224, 224, 3)\n",
    "y = y.reshape((y.shape[0], 1))\n",
    "print(X.shape)\n",
    "print(y.shape)\n",
    "\n",
    "#Create training and testing sets\n",
    "(trainX, testX, trainY, testY) = train_test_split(X, y, test_size=0.25, random_state=42)\n",
    "\n",
    "print(trainX.shape)\n",
    "print(testX.shape)\n",
    "print(trainY.shape)\n",
    "print(testY.shape)\n",
    "\n",
    "'''print(\"Loading images..\")\n",
    "imagePaths = list(paths.list_images(args[\"dataset\"]))\n",
    "\n",
    "#Include foll. preproc steps if you're using Adrian's preprocessing scripts, else modify:\n",
    "\n",
    "sp = SimplePreprocessor(32,32)\n",
    "iap = ImageToArrayPreprocessor()\n",
    "\n",
    "#Load dataset and scale raw pixels to between 0 and 1\n",
    "sdl = SimpleDatasetLoader(preprocessors = [sp, iap])\n",
    "(data, labels) = sdl.load(imagePaths, verbose=500)\n",
    "data = data.astype(\"float\")/255.0'''"
   ]
  },
  {
   "cell_type": "code",
   "execution_count": null,
   "metadata": {},
   "outputs": [],
   "source": [
    "#Initialize optimizer, model\n",
    "print(\"Compiling model\")\n",
    "opt = tf.keras.optimizers.SGD(learning_rate=0.1, momentum=0.9) #Add correct learning rate\n",
    "model = CORblock_S()\n",
    "\n",
    "#Compile model\n",
    "model.compile(loss=tf.keras.losses.SparseCategoricalCrossentropy(from_logits=True), optimizer=opt, metrics=['accuracy'])\n",
    "\n",
    "#Train model\n",
    "model.fit(trainX, trainY, validation_data=(testX, testY), epochs= 3, batch_size= 50) #Paper- 43 epochs training\n",
    "\n",
    "#Save network (weights) to disk in HDF5 format\n",
    "#print(\"Serializing network\")\n",
    "#model.save(args[\"model\"])\n",
    "\n",
    "#Evaluate how well the model is doing\n",
    "score = model.evaluate(testX, testY, verbose=0)\n",
    "\n",
    "#Create another prediction script which can load weights (if stored after training) & make foll predns on test data\n",
    "print(\"Evaluating network\")\n",
    "predictions=model.predict(testX,testY,batch_size=32)\n",
    "\n",
    "model.summary()\n",
    "#print(classification_report(testY.argmax(axis=1),predictions.argmax(axis=1),target_names=[\"\", \"\"]))"
   ]
  }
 ],
 "metadata": {
  "kernelspec": {
   "display_name": "Python 3",
   "language": "python",
   "name": "python3"
  },
  "language_info": {
   "codemirror_mode": {
    "name": "ipython",
    "version": 3
   },
   "file_extension": ".py",
   "mimetype": "text/x-python",
   "name": "python",
   "nbconvert_exporter": "python",
   "pygments_lexer": "ipython3",
   "version": "3.7.9"
  }
 },
 "nbformat": 4,
 "nbformat_minor": 4
}
